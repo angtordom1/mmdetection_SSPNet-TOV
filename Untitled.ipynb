{
 "cells": [
  {
   "cell_type": "code",
   "execution_count": 1,
   "id": "d227a79b-cb03-49ae-b020-8325136c5a56",
   "metadata": {},
   "outputs": [],
   "source": [
    "from mmcv import Config\n",
    "cfg = Config.fromfile('./configs/sspnet/faster_rcnn_r50_sspnet_1x_tiny.py')"
   ]
  },
  {
   "cell_type": "code",
   "execution_count": null,
   "id": "10feade9-56e5-494f-90a1-41324c0100ab",
   "metadata": {},
   "outputs": [],
   "source": [
    "cfg.data_root = '../tiny/tiny_set/'\n",
    "\n",
    "cfg.data.test.data_root = '../tiny/tiny_set/'\n",
    "cfg.data.val.ann_file = 'annotations/corner/task/tiny_set_test_sw640_sh512_all.json'\n",
    "cfg.data.val.img_prefix = 'test/'\n",
    "\n",
    "cfg.data.val.data_root = '../tiny/tiny_set/'\n",
    "cfg.data.val.ann_file = 'annotations/corner/task/tiny_set_test_sw640_sh512_all.json'\n",
    "cfg.data.val.img_prefix = 'test/'\n",
    "\n",
    "cfg.data.train.data_root = '../tiny/tiny_set/'\n",
    "cfg.data.train.ann_file = 'mini_annotations/tiny_set_train_sw640_sh512_all_erase.json'\n",
    "cfg.data.train.img_prefix = 'erase_with_uncertain_dataset/train/'\n",
    "\n",
    "cfg.data.samples_per_gpu=2\n",
    "cfg.data.workers_per_gpu=2\n",
    "\n",
    "# How intervals passed until evaluation\n",
    "cfg.log_config.interval = 10\n",
    "cfg.checkpoint_config.interval = 3\n",
    "\n",
    "# Set up working dir to save files and logs.\n",
    "cfg.work_dir = './tutorial_exps'\n",
    "\n",
    "# Set seed thus the results are more reproducible\n",
    "cfg.seed = 24\n",
    "#set_random_seed(0, deterministic=False)\n",
    "cfg.gpu_ids = range(1)\n",
    "cfg.device='cuda'    \n",
    "\n",
    "# Use tensorboard to log the training process\n",
    "cfg.log_config.hooks = [\n",
    "    dict(type='TextLoggerHook'),\n",
    "    dict(type='TensorboardLoggerHook')]\n",
    "\n",
    "# We can initialize the logger for training and have a look\n",
    "# at the final config used for training\n",
    "print(f'Config:\\n{cfg.pretty_text}')"
   ]
  },
  {
   "cell_type": "code",
   "execution_count": null,
   "id": "9b43bf4d-b557-4343-9a2f-bc2cb615eeab",
   "metadata": {
    "scrolled": true,
    "tags": []
   },
   "outputs": [
    {
     "name": "stdout",
     "output_type": "stream",
     "text": [
      "loading annotations into memory...\n",
      "Done (t=0.61s)\n",
      "creating index...\n",
      "index created!\n",
      "valid image count:  3206\n"
     ]
    },
    {
     "name": "stderr",
     "output_type": "stream",
     "text": [
      "F:\\Anaconda\\envs\\open-mmlab\\lib\\site-packages\\albumentations\\augmentations\\transforms.py:780: FutureWarning: JpegCompression has been deprecated. Please use ImageCompression\n",
      "  FutureWarning,\n",
      "F:\\TFG\\TOV_mmdetection\\mmdet\\models\\backbones\\resnet.py:400: UserWarning: DeprecationWarning: pretrained is a deprecated, please use \"init_cfg\" instead\n",
      "  warnings.warn('DeprecationWarning: pretrained is a deprecated, '\n"
     ]
    },
    {
     "name": "stdout",
     "output_type": "stream",
     "text": [
      "loading annotations into memory...\n"
     ]
    },
    {
     "name": "stderr",
     "output_type": "stream",
     "text": [
      "2022-07-11 14:46:32,712 - mmdet - INFO - Start running, host: angel@DESKTOP-AFQ9C4A, work_dir: F:\\TFG\\TOV_mmdetection\\tutorial_exps\n",
      "2022-07-11 14:46:32,713 - mmdet - INFO - Hooks will be executed in the following order:\n",
      "before_run:\n",
      "(VERY_HIGH   ) StepLrUpdaterHook                  \n",
      "(NORMAL      ) CheckpointHook                     \n",
      "(NORMAL      ) EvalHook                           \n",
      "(VERY_LOW    ) TextLoggerHook                     \n",
      "(VERY_LOW    ) TensorboardLoggerHook              \n",
      " -------------------- \n",
      "before_train_epoch:\n",
      "(VERY_HIGH   ) StepLrUpdaterHook                  \n",
      "(NORMAL      ) EvalHook                           \n",
      "(NORMAL      ) NumClassCheckHook                  \n",
      "(LOW         ) IterTimerHook                      \n",
      "(VERY_LOW    ) TextLoggerHook                     \n",
      "(VERY_LOW    ) TensorboardLoggerHook              \n",
      " -------------------- \n",
      "before_train_iter:\n",
      "(VERY_HIGH   ) StepLrUpdaterHook                  \n",
      "(NORMAL      ) EvalHook                           \n",
      "(LOW         ) IterTimerHook                      \n",
      " -------------------- \n",
      "after_train_iter:\n",
      "(ABOVE_NORMAL) OptimizerHook                      \n",
      "(NORMAL      ) CheckpointHook                     \n",
      "(NORMAL      ) EvalHook                           \n",
      "(LOW         ) IterTimerHook                      \n",
      "(VERY_LOW    ) TextLoggerHook                     \n",
      "(VERY_LOW    ) TensorboardLoggerHook              \n",
      " -------------------- \n",
      "after_train_epoch:\n",
      "(NORMAL      ) CheckpointHook                     \n",
      "(NORMAL      ) EvalHook                           \n",
      "(VERY_LOW    ) TextLoggerHook                     \n",
      "(VERY_LOW    ) TensorboardLoggerHook              \n",
      " -------------------- \n",
      "before_val_epoch:\n",
      "(NORMAL      ) NumClassCheckHook                  \n",
      "(LOW         ) IterTimerHook                      \n",
      "(VERY_LOW    ) TextLoggerHook                     \n",
      "(VERY_LOW    ) TensorboardLoggerHook              \n",
      " -------------------- \n",
      "before_val_iter:\n",
      "(LOW         ) IterTimerHook                      \n",
      " -------------------- \n",
      "after_val_iter:\n",
      "(LOW         ) IterTimerHook                      \n",
      " -------------------- \n",
      "after_val_epoch:\n",
      "(VERY_LOW    ) TextLoggerHook                     \n",
      "(VERY_LOW    ) TensorboardLoggerHook              \n",
      " -------------------- \n",
      "after_run:\n",
      "(NORMAL      ) EvalHook                           \n",
      "(VERY_LOW    ) TextLoggerHook                     \n",
      "(VERY_LOW    ) TensorboardLoggerHook              \n",
      " -------------------- \n",
      "2022-07-11 14:46:32,714 - mmdet - INFO - workflow: [('train', 1)], max: 12 epochs\n",
      "2022-07-11 14:46:32,715 - mmdet - INFO - Checkpoints will be saved to F:\\TFG\\TOV_mmdetection\\tutorial_exps by HardDiskBackend.\n"
     ]
    },
    {
     "name": "stdout",
     "output_type": "stream",
     "text": [
      "Done (t=0.70s)\n",
      "creating index...\n",
      "index created!\n"
     ]
    }
   ],
   "source": [
    "import mmcv\n",
    "import mmdet\n",
    "from mmdet.datasets import build_dataset\n",
    "from mmdet.models import build_detector\n",
    "from mmdet.apis import train_detector\n",
    "import os.path as osp\n",
    "\n",
    "# Build dataset\n",
    "datasets = [build_dataset(cfg.data.train)]\n",
    "\n",
    "# Build the detector\n",
    "model = build_detector(cfg.model)\n",
    "# Add an attribute for visualization convenience\n",
    "model.CLASSES = datasets[0].CLASSES\n",
    "\n",
    "# Create work_dir\n",
    "mmcv.mkdir_or_exist(osp.abspath(cfg.work_dir))\n",
    "train_detector(model, datasets, cfg, distributed=False, validate=True)"
   ]
  },
  {
   "cell_type": "code",
   "execution_count": null,
   "id": "a9093f05-4458-44a9-9bec-499419d3f031",
   "metadata": {},
   "outputs": [],
   "source": [
    "from PIL import Image\n",
    "import glob\n",
    "image_list = []\n",
    "for filename in glob.glob('../tiny/tiny_set/test/no_label_images/*.jpg'):\n",
    "    image_list.append(filename)"
   ]
  },
  {
   "cell_type": "code",
   "execution_count": null,
   "id": "58b510a9-1ff7-40a9-a4d9-4faa13d8f88d",
   "metadata": {},
   "outputs": [],
   "source": [
    "import random\n",
    "from mmdet.apis import inference_detector,show_result_pyplot\n",
    "random.seed = 0\n",
    "model.cfg = cfg\n",
    "\n",
    "for image in random.choices(image_list, k=5):\n",
    "    img = mmcv.imread(image)\n",
    "    result = inference_detector(model, img)\n",
    "    show_result_pyplot(model, img, result)"
   ]
  },
  {
   "cell_type": "code",
   "execution_count": null,
   "id": "eba2e5ef-0b56-4a2a-bcf6-9896b8f2b613",
   "metadata": {},
   "outputs": [],
   "source": []
  }
 ],
 "metadata": {
  "kernelspec": {
   "display_name": "Python 3 (ipykernel)",
   "language": "python",
   "name": "python3"
  },
  "language_info": {
   "codemirror_mode": {
    "name": "ipython",
    "version": 3
   },
   "file_extension": ".py",
   "mimetype": "text/x-python",
   "name": "python",
   "nbconvert_exporter": "python",
   "pygments_lexer": "ipython3",
   "version": "3.7.13"
  }
 },
 "nbformat": 4,
 "nbformat_minor": 5
}
