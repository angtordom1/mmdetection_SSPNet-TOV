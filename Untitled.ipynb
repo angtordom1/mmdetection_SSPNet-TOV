{
 "cells": [
  {
   "cell_type": "code",
   "execution_count": 1,
   "id": "d227a79b-cb03-49ae-b020-8325136c5a56",
   "metadata": {},
   "outputs": [
    {
     "name": "stderr",
     "output_type": "stream",
     "text": [
      "C:\\Users\\angel\\AppData\\Roaming\\Python\\Python37\\site-packages\\tqdm\\auto.py:22: TqdmWarning: IProgress not found. Please update jupyter and ipywidgets. See https://ipywidgets.readthedocs.io/en/stable/user_install.html\n",
      "  from .autonotebook import tqdm as notebook_tqdm\n"
     ]
    }
   ],
   "source": [
    "from mmcv import Config\n",
    "cfg = Config.fromfile('./configs/sspnet/faster_rcnn_r50_sspnet_1x_tiny.py')"
   ]
  },
  {
   "cell_type": "code",
   "execution_count": null,
   "id": "10feade9-56e5-494f-90a1-41324c0100ab",
   "metadata": {},
   "outputs": [],
   "source": [
    "cfg.data_root = '../tiny/tiny_set/'\n",
    "\n",
    "cfg.data.test.data_root = '../tiny/tiny_set/'\n",
    "cfg.data.val.ann_file = 'annotations/corner/task/tiny_set_test_sw640_sh512_all.json'\n",
    "cfg.data.val.img_prefix = 'test/'\n",
    "\n",
    "cfg.data.val.data_root = '../tiny/tiny_set/'\n",
    "cfg.data.val.ann_file = 'annotations/corner/task/tiny_set_test_sw640_sh512_all.json'\n",
    "cfg.data.val.img_prefix = 'test/'\n",
    "\n",
    "cfg.data.train.data_root = '../tiny/tiny_set/'\n",
    "cfg.data.train.ann_file = 'mini_annotations/tiny_set_train_sw640_sh512_all_erase.json'\n",
    "cfg.data.train.img_prefix = 'erase_with_uncertain_dataset/train/'\n",
    "\n",
    "cfg.data.samples_per_gpu=2\n",
    "cfg.data.workers_per_gpu=2\n",
    "\n",
    "# How intervals passed until evaluation\n",
    "cfg.log_config.interval = 10\n",
    "cfg.checkpoint_config.interval = 3\n",
    "\n",
    "# Set up working dir to save files and logs.\n",
    "cfg.work_dir = './tutorial_exps'\n",
    "\n",
    "# Set seed thus the results are more reproducible\n",
    "cfg.seed = 24\n",
    "#set_random_seed(0, deterministic=False)\n",
    "cfg.gpu_ids = range(1)\n",
    "cfg.device='cuda'    \n",
    "\n",
    "# Use tensorboard to log the training process\n",
    "cfg.log_config.hooks = [\n",
    "    dict(type='TextLoggerHook'),\n",
    "    dict(type='TensorboardLoggerHook')]\n",
    "\n",
    "# We can initialize the logger for training and have a look\n",
    "# at the final config used for training\n",
    "print(f'Config:\\n{cfg.pretty_text}')"
   ]
  },
  {
   "cell_type": "code",
   "execution_count": 3,
   "id": "9b43bf4d-b557-4343-9a2f-bc2cb615eeab",
   "metadata": {
    "scrolled": true,
    "tags": []
   },
   "outputs": [
    {
     "ename": "SyntaxError",
     "evalue": "invalid syntax (dense_test_mixins.py, line 203)",
     "output_type": "error",
     "traceback": [
      "Traceback \u001b[1;36m(most recent call last)\u001b[0m:\n",
      "  File \u001b[0;32m\"F:\\Anaconda\\envs\\open-mmlab\\lib\\site-packages\\IPython\\core\\interactiveshell.py\"\u001b[0m, line \u001b[0;32m3457\u001b[0m, in \u001b[0;35mrun_code\u001b[0m\n    exec(code_obj, self.user_global_ns, self.user_ns)\n",
      "  File \u001b[0;32m\"C:\\Users\\angel\\AppData\\Local\\Temp\\ipykernel_8936\\1440127666.py\"\u001b[0m, line \u001b[0;32m3\u001b[0m, in \u001b[0;35m<module>\u001b[0m\n    from mmdet.datasets import build_dataset\n",
      "  File \u001b[0;32m\"F:\\TFG\\SSPNet-master\\mmdet\\datasets\\__init__.py\"\u001b[0m, line \u001b[0;32m12\u001b[0m, in \u001b[0;35m<module>\u001b[0m\n    from .utils import (NumClassCheckHook, get_loading_pipeline,\n",
      "  File \u001b[0;32m\"F:\\TFG\\SSPNet-master\\mmdet\\datasets\\utils.py\"\u001b[0m, line \u001b[0;32m10\u001b[0m, in \u001b[0;35m<module>\u001b[0m\n    from mmdet.models.dense_heads import GARPNHead, RPNHead\n",
      "  File \u001b[0;32m\"F:\\TFG\\SSPNet-master\\mmdet\\models\\__init__.py\"\u001b[0m, line \u001b[0;32m7\u001b[0m, in \u001b[0;35m<module>\u001b[0m\n    from .dense_heads import *  # noqa: F401,F403\n",
      "  File \u001b[0;32m\"F:\\TFG\\SSPNet-master\\mmdet\\models\\dense_heads\\__init__.py\"\u001b[0m, line \u001b[0;32m2\u001b[0m, in \u001b[0;35m<module>\u001b[0m\n    from .anchor_free_head import AnchorFreeHead\n",
      "\u001b[1;36m  File \u001b[1;32m\"F:\\TFG\\SSPNet-master\\mmdet\\models\\dense_heads\\anchor_free_head.py\"\u001b[1;36m, line \u001b[1;32m14\u001b[1;36m, in \u001b[1;35m<module>\u001b[1;36m\u001b[0m\n\u001b[1;33m    from .dense_test_mixins import BBoxTestMixin\u001b[0m\n",
      "\u001b[1;36m  File \u001b[1;32m\"F:\\TFG\\SSPNet-master\\mmdet\\models\\dense_heads\\dense_test_mixins.py\"\u001b[1;36m, line \u001b[1;32m203\u001b[0m\n\u001b[1;33m    recovered_bboxes.append(bboxes)\u001b[0m\n\u001b[1;37m                   ^\u001b[0m\n\u001b[1;31mSyntaxError\u001b[0m\u001b[1;31m:\u001b[0m invalid syntax\n"
     ]
    }
   ],
   "source": [
    "import mmcv\n",
    "import mmdet\n",
    "from mmdet.datasets import build_dataset\n",
    "from mmdet.models import build_detector\n",
    "from mmdet.apis import train_detector\n",
    "import os.path as osp\n",
    "\n",
    "# Build dataset\n",
    "datasets = [build_dataset(cfg.data.train)]\n",
    "\n",
    "# Build the detector\n",
    "model = build_detector(cfg.model)\n",
    "# Add an attribute for visualization convenience\n",
    "model.CLASSES = datasets[0].CLASSES\n",
    "\n",
    "# Create work_dir\n",
    "mmcv.mkdir_or_exist(osp.abspath(cfg.work_dir))\n",
    "train_detector(model, datasets, cfg, distributed=False, validate=True)"
   ]
  },
  {
   "cell_type": "code",
   "execution_count": null,
   "id": "a9093f05-4458-44a9-9bec-499419d3f031",
   "metadata": {},
   "outputs": [],
   "source": [
    "from PIL import Image\n",
    "import glob\n",
    "image_list = []\n",
    "for filename in glob.glob('../tiny/tiny_set/test/no_label_images/*.jpg'):\n",
    "    image_list.append(filename)"
   ]
  },
  {
   "cell_type": "code",
   "execution_count": null,
   "id": "58b510a9-1ff7-40a9-a4d9-4faa13d8f88d",
   "metadata": {},
   "outputs": [],
   "source": [
    "import random\n",
    "from mmdet.apis import inference_detector,show_result_pyplot\n",
    "random.seed = 0\n",
    "model.cfg = cfg\n",
    "\n",
    "for image in random.choices(image_list, k=5):\n",
    "    img = mmcv.imread(image)\n",
    "    result = inference_detector(model, img)\n",
    "    show_result_pyplot(model, img, result)"
   ]
  },
  {
   "cell_type": "code",
   "execution_count": null,
   "id": "eba2e5ef-0b56-4a2a-bcf6-9896b8f2b613",
   "metadata": {},
   "outputs": [],
   "source": []
  }
 ],
 "metadata": {
  "kernelspec": {
   "display_name": "Python 3 (ipykernel)",
   "language": "python",
   "name": "python3"
  },
  "language_info": {
   "codemirror_mode": {
    "name": "ipython",
    "version": 3
   },
   "file_extension": ".py",
   "mimetype": "text/x-python",
   "name": "python",
   "nbconvert_exporter": "python",
   "pygments_lexer": "ipython3",
   "version": "3.7.13"
  }
 },
 "nbformat": 4,
 "nbformat_minor": 5
}
